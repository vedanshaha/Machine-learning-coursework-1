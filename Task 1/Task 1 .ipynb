{
 "cells": [
  {
   "cell_type": "markdown",
   "id": "7b536ebb",
   "metadata": {},
   "source": [
    "# Machine learning Coursework\n"
   ]
  },
  {
   "cell_type": "markdown",
   "id": "a4826e9d",
   "metadata": {},
   "source": [
    "## Task 1 \n",
    "220276191"
   ]
  },
  {
   "cell_type": "markdown",
   "id": "e99ea09d",
   "metadata": {},
   "source": [
    "### In the below cell, I have imported general modules of the python  "
   ]
  },
  {
   "cell_type": "code",
   "execution_count": 71,
   "id": "1735a945",
   "metadata": {},
   "outputs": [],
   "source": [
    "import numpy as np \n",
    "import pandas as pd\n",
    "from sklearn.linear_model import LinearRegression\n",
    "from sklearn.model_selection import train_test_split\n",
    "from sklearn.linear_model import Ridge\n",
    "\n",
    "from sklearn.metrics import r2_score\n",
    "from sklearn.metrics import mean_squared_error"
   ]
  },
  {
   "cell_type": "code",
   "execution_count": 72,
   "id": "6d56dd70",
   "metadata": {},
   "outputs": [
    {
     "data": {
      "text/html": [
       "<div>\n",
       "<style scoped>\n",
       "    .dataframe tbody tr th:only-of-type {\n",
       "        vertical-align: middle;\n",
       "    }\n",
       "\n",
       "    .dataframe tbody tr th {\n",
       "        vertical-align: top;\n",
       "    }\n",
       "\n",
       "    .dataframe thead th {\n",
       "        text-align: right;\n",
       "    }\n",
       "</style>\n",
       "<table border=\"1\" class=\"dataframe\">\n",
       "  <thead>\n",
       "    <tr style=\"text-align: right;\">\n",
       "      <th></th>\n",
       "      <th>x1</th>\n",
       "      <th>x2</th>\n",
       "      <th>x3</th>\n",
       "      <th>y</th>\n",
       "    </tr>\n",
       "  </thead>\n",
       "  <tbody>\n",
       "    <tr>\n",
       "      <th>0</th>\n",
       "      <td>-1.254599</td>\n",
       "      <td>-1.147857</td>\n",
       "      <td>22.195982</td>\n",
       "      <td>86.778544</td>\n",
       "    </tr>\n",
       "    <tr>\n",
       "      <th>1</th>\n",
       "      <td>0.986585</td>\n",
       "      <td>-3.531944</td>\n",
       "      <td>20.467984</td>\n",
       "      <td>85.330567</td>\n",
       "    </tr>\n",
       "    <tr>\n",
       "      <th>2</th>\n",
       "      <td>-4.419164</td>\n",
       "      <td>-1.401472</td>\n",
       "      <td>21.803345</td>\n",
       "      <td>79.702687</td>\n",
       "    </tr>\n",
       "    <tr>\n",
       "      <th>3</th>\n",
       "      <td>2.080726</td>\n",
       "      <td>-3.938247</td>\n",
       "      <td>22.909730</td>\n",
       "      <td>99.196104</td>\n",
       "    </tr>\n",
       "    <tr>\n",
       "      <th>4</th>\n",
       "      <td>3.324426</td>\n",
       "      <td>-3.362983</td>\n",
       "      <td>20.545475</td>\n",
       "      <td>93.340813</td>\n",
       "    </tr>\n",
       "  </tbody>\n",
       "</table>\n",
       "</div>"
      ],
      "text/plain": [
       "         x1        x2         x3          y\n",
       "0 -1.254599 -1.147857  22.195982  86.778544\n",
       "1  0.986585 -3.531944  20.467984  85.330567\n",
       "2 -4.419164 -1.401472  21.803345  79.702687\n",
       "3  2.080726 -3.938247  22.909730  99.196104\n",
       "4  3.324426 -3.362983  20.545475  93.340813"
      ]
     },
     "execution_count": 72,
     "metadata": {},
     "output_type": "execute_result"
    }
   ],
   "source": [
    "df=pd.read_csv('task1.csv')\n",
    "df.head()"
   ]
  },
  {
   "cell_type": "code",
   "execution_count": 73,
   "id": "dd4f21f9",
   "metadata": {},
   "outputs": [],
   "source": [
    "x = df.iloc[:,0:3]\n",
    "y = df.iloc[:]"
   ]
  },
  {
   "cell_type": "code",
   "execution_count": 74,
   "id": "d8c41384",
   "metadata": {},
   "outputs": [
    {
     "data": {
      "text/plain": [
       "((105, 3), (45, 3), (105, 4), (45, 4))"
      ]
     },
     "execution_count": 74,
     "metadata": {},
     "output_type": "execute_result"
    }
   ],
   "source": [
    "# Using sklearn.model_selection import train_test_split to split the existing data into two sets test and train.\n",
    "\n",
    "x_train, x_test, y_train, y_test = train_test_split(x, y,test_size = 0.3, random_state=22)\n",
    "\n",
    "x_train.shape, x_test.shape, y_train.shape, y_test.shape"
   ]
  },
  {
   "cell_type": "code",
   "execution_count": 75,
   "id": "43947b9f",
   "metadata": {},
   "outputs": [
    {
     "name": "stdout",
     "output_type": "stream",
     "text": [
      "R-Square Value: 0.9779612540010865 \n",
      "\n",
      "MSE: 1.1810766582965364\n"
     ]
    }
   ],
   "source": [
    "# Trained the ridge on train data and geting the prediction on test data\n",
    "\n",
    "ridge = Ridge(alpha=0.01)\n",
    "ridge.fit(x_train, y_train)\n",
    "y_pred = ridge.predict(x_test)\n",
    "\n",
    "print(\"R-Square Value:\",r2_score(y_test,y_pred),'\\n')\n",
    "\n",
    "print('MSE: {}'.format(mean_squared_error(y_test,y_pred)))\n"
   ]
  },
  {
   "cell_type": "markdown",
   "id": "8e302c55",
   "metadata": {},
   "source": [
    "Coefficient of determination, also termed as R2 is a measure which determines and assesses the ability of a model to explain and predict future outcomes. In other words, if we have dependent variable `y` and independent variable `x` in a model, then R2 helps in determining the variation in y by variation x. The value of R2 lies between 0 and 1 and higher the value of R2, better will be the prediction and strength of the model. R2 is very similar to the correlation coefficient since the correlation coefficient measures the direct association of two variables. R2 is basically a square of a correlation coefficient"
   ]
  },
  {
   "cell_type": "markdown",
   "id": "3ba869e9",
   "metadata": {},
   "source": [
    "Our model has an R square value of 0.97, so it can explain 97% variance in the dependent variable `y` with the independent vairables."
   ]
  },
  {
   "cell_type": "code",
   "execution_count": null,
   "id": "d4fa227e",
   "metadata": {},
   "outputs": [],
   "source": []
  }
 ],
 "metadata": {
  "kernelspec": {
   "display_name": "Python 3 (ipykernel)",
   "language": "python",
   "name": "python3"
  },
  "language_info": {
   "codemirror_mode": {
    "name": "ipython",
    "version": 3
   },
   "file_extension": ".py",
   "mimetype": "text/x-python",
   "name": "python",
   "nbconvert_exporter": "python",
   "pygments_lexer": "ipython3",
   "version": "3.9.13"
  }
 },
 "nbformat": 4,
 "nbformat_minor": 5
}
